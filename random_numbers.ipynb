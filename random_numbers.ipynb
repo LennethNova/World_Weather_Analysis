{
 "cells": [
  {
   "cell_type": "code",
   "execution_count": 1,
   "id": "bbff3b50",
   "metadata": {},
   "outputs": [],
   "source": [
    "import random\n",
    "\n",
    "# Import the NumPy module.\n",
    "import numpy as np\n",
    "\n",
    "# Import timeit.\n",
    "import timeit"
   ]
  },
  {
   "cell_type": "code",
   "execution_count": 2,
   "id": "c84e48cc",
   "metadata": {},
   "outputs": [
    {
     "data": {
      "text/plain": [
       "-69"
      ]
     },
     "execution_count": 2,
     "metadata": {},
     "output_type": "execute_result"
    }
   ],
   "source": [
    "random.randint(-90,90)"
   ]
  },
  {
   "cell_type": "code",
   "execution_count": 3,
   "id": "4de99cd6",
   "metadata": {},
   "outputs": [
    {
     "data": {
      "text/plain": [
       "0.11780507948224794"
      ]
     },
     "execution_count": 3,
     "metadata": {},
     "output_type": "execute_result"
    }
   ],
   "source": [
    "random.random()"
   ]
  },
  {
   "cell_type": "code",
   "execution_count": 4,
   "id": "c204fdf9",
   "metadata": {},
   "outputs": [
    {
     "data": {
      "text/plain": [
       "-4.518679550578536"
      ]
     },
     "execution_count": 4,
     "metadata": {},
     "output_type": "execute_result"
    }
   ],
   "source": [
    "random_number= random.randint(-90,90)+random.random()\n",
    "random_number"
   ]
  },
  {
   "cell_type": "code",
   "execution_count": 5,
   "id": "6c64dfed",
   "metadata": {},
   "outputs": [],
   "source": [
    "# We assign the variable x to 1\n",
    "x = 1\n",
    "# This will initialize an empty list\n",
    "latitudes = []\n",
    "\n",
    "# This will run as long as x is less than 11\n",
    "while x < 11:\n",
    "    # This will make a new variable that will contain the random latitudes\n",
    "    # The variable will add the numbers to the latitudes list\n",
    "    random_lat = random.randint(-90, 89) + random.random()\n",
    "    latitudes.append(random_lat)\n",
    "    x += 1\n",
    "\n",
    "# this will give the result that will be added to the list\n",
    "#latitudes"
   ]
  },
  {
   "cell_type": "code",
   "execution_count": 6,
   "id": "3bf2b63a",
   "metadata": {},
   "outputs": [
    {
     "data": {
      "text/plain": [
       "array([ 79.86332598,  77.88689467, -49.48490346, ..., -22.65302098,\n",
       "        75.94328271,  -6.25361725])"
      ]
     },
     "execution_count": 6,
     "metadata": {},
     "output_type": "execute_result"
    }
   ],
   "source": [
    "# This will give an array of 50 floating point decimal numbers\n",
    "np.random.uniform(-90.000, 90.000, size=1500)"
   ]
  },
  {
   "cell_type": "code",
   "execution_count": 7,
   "id": "cebd5d81",
   "metadata": {},
   "outputs": [
    {
     "name": "stdout",
     "output_type": "stream",
     "text": [
      "13.6 µs ± 225 ns per loop (mean ± std. dev. of 7 runs, 100000 loops each)\n"
     ]
    }
   ],
   "source": [
    "# Micro +- Nano seconds\n",
    "# The amount of time it takes to run this code depends on the processing speed and the RAM of your computer.\n",
    "# np.random.uniform(-90.000, 90.000, size=1500) is faster than the while\n",
    "\n",
    "%timeit np.random.uniform(-90.000, 90.000, size=1500)"
   ]
  },
  {
   "cell_type": "code",
   "execution_count": 8,
   "id": "bdb9738b",
   "metadata": {},
   "outputs": [
    {
     "name": "stdout",
     "output_type": "stream",
     "text": [
      "1.74 ms ± 53.3 µs per loop (mean ± std. dev. of 7 runs, 1000 loops each)\n"
     ]
    }
   ],
   "source": [
    "# Define the size of the latitudes\n",
    "\n",
    "def latitudes(size):\n",
    "    latitudes = []\n",
    "    x = 0\n",
    "    while x < (size):\n",
    "        random_lat = random.randint(-90, 90) + random.random()\n",
    "        latitudes.append(random_lat)\n",
    "        x += 1\n",
    "    #This will return the values\n",
    "    return latitudes\n",
    "\n",
    "# Call the function with 1500. This will print the time it took to go through the loop\n",
    "%timeit latitudes(1500)"
   ]
  },
  {
   "cell_type": "code",
   "execution_count": 11,
   "id": "cad40b1d",
   "metadata": {},
   "outputs": [
    {
     "name": "stdout",
     "output_type": "stream",
     "text": [
      "130 ns ± 16 ns per loop (mean ± std. dev. of 7 runs, 10000000 loops each)\n"
     ]
    }
   ],
   "source": [
    "# Define the size of the latitudes\n",
    "\n",
    "def latitudes(size):\n",
    "    latitudes = []\n",
    "    x = 0\n",
    "    for x in latitudes:\n",
    "        if x <(size):\n",
    "            random_lat = random.randint(-90, 90) + random.random()\n",
    "            latitudes.append(random_lat)\n",
    "            x += 1\n",
    "    #This will return the values\n",
    "            return latitudes\n",
    "\n",
    "# Call the function with 1500. This will print the time it took to go through the loop\n",
    "%timeit latitudes(1500)\n",
    "#latitudes(1500)"
   ]
  },
  {
   "cell_type": "code",
   "execution_count": null,
   "id": "a77c0cf9",
   "metadata": {},
   "outputs": [],
   "source": []
  }
 ],
 "metadata": {
  "kernelspec": {
   "display_name": "PythonData",
   "language": "python",
   "name": "pythondata"
  },
  "language_info": {
   "codemirror_mode": {
    "name": "ipython",
    "version": 3
   },
   "file_extension": ".py",
   "mimetype": "text/x-python",
   "name": "python",
   "nbconvert_exporter": "python",
   "pygments_lexer": "ipython3",
   "version": "3.7.10"
  }
 },
 "nbformat": 4,
 "nbformat_minor": 5
}
